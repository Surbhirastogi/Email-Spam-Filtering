{
 "cells": [
  {
   "cell_type": "markdown",
   "id": "404a7543",
   "metadata": {},
   "source": [
    "# Load Data"
   ]
  },
  {
   "cell_type": "code",
   "execution_count": 1,
   "id": "818827a5",
   "metadata": {},
   "outputs": [],
   "source": [
    "import pandas as pd\n",
    "import numpy as np"
   ]
  },
  {
   "cell_type": "code",
   "execution_count": 2,
   "id": "30e7d0f5",
   "metadata": {},
   "outputs": [],
   "source": [
    "data=pd.read_csv('sms.tsv',delimiter='\\t',names=['label','Messages'])"
   ]
  },
  {
   "cell_type": "code",
   "execution_count": 3,
   "id": "959b8ce5",
   "metadata": {},
   "outputs": [],
   "source": [
    "data['label']=data['label'].map({'ham':0,'spam':1})"
   ]
  },
  {
   "cell_type": "code",
   "execution_count": 6,
   "id": "eb666631",
   "metadata": {},
   "outputs": [
    {
     "data": {
      "text/html": [
       "<div>\n",
       "<style scoped>\n",
       "    .dataframe tbody tr th:only-of-type {\n",
       "        vertical-align: middle;\n",
       "    }\n",
       "\n",
       "    .dataframe tbody tr th {\n",
       "        vertical-align: top;\n",
       "    }\n",
       "\n",
       "    .dataframe thead th {\n",
       "        text-align: right;\n",
       "    }\n",
       "</style>\n",
       "<table border=\"1\" class=\"dataframe\">\n",
       "  <thead>\n",
       "    <tr style=\"text-align: right;\">\n",
       "      <th></th>\n",
       "      <th>label</th>\n",
       "      <th>Messages</th>\n",
       "    </tr>\n",
       "  </thead>\n",
       "  <tbody>\n",
       "    <tr>\n",
       "      <th>0</th>\n",
       "      <td>0</td>\n",
       "      <td>Go until jurong point, crazy.. Available only ...</td>\n",
       "    </tr>\n",
       "    <tr>\n",
       "      <th>1</th>\n",
       "      <td>0</td>\n",
       "      <td>Ok lar... Joking wif u oni...</td>\n",
       "    </tr>\n",
       "    <tr>\n",
       "      <th>2</th>\n",
       "      <td>1</td>\n",
       "      <td>Free entry in 2 a wkly comp to win FA Cup fina...</td>\n",
       "    </tr>\n",
       "    <tr>\n",
       "      <th>3</th>\n",
       "      <td>0</td>\n",
       "      <td>U dun say so early hor... U c already then say...</td>\n",
       "    </tr>\n",
       "    <tr>\n",
       "      <th>4</th>\n",
       "      <td>0</td>\n",
       "      <td>Nah I don't think he goes to usf, he lives aro...</td>\n",
       "    </tr>\n",
       "  </tbody>\n",
       "</table>\n",
       "</div>"
      ],
      "text/plain": [
       "   label                                           Messages\n",
       "0      0  Go until jurong point, crazy.. Available only ...\n",
       "1      0                      Ok lar... Joking wif u oni...\n",
       "2      1  Free entry in 2 a wkly comp to win FA Cup fina...\n",
       "3      0  U dun say so early hor... U c already then say...\n",
       "4      0  Nah I don't think he goes to usf, he lives aro..."
      ]
     },
     "execution_count": 6,
     "metadata": {},
     "output_type": "execute_result"
    }
   ],
   "source": [
    "data.head()"
   ]
  },
  {
   "cell_type": "code",
   "execution_count": 5,
   "id": "52afbec3",
   "metadata": {},
   "outputs": [
    {
     "data": {
      "text/plain": [
       "(5572, 2)"
      ]
     },
     "execution_count": 5,
     "metadata": {},
     "output_type": "execute_result"
    }
   ],
   "source": [
    "data.shape"
   ]
  },
  {
   "cell_type": "markdown",
   "id": "e220ecd5",
   "metadata": {},
   "source": [
    "# Clean and Prepare Data"
   ]
  },
  {
   "cell_type": "code",
   "execution_count": 6,
   "id": "9cf755fb",
   "metadata": {},
   "outputs": [],
   "source": [
    "import re"
   ]
  },
  {
   "cell_type": "code",
   "execution_count": 7,
   "id": "5443e434",
   "metadata": {},
   "outputs": [],
   "source": [
    "def clean(x):\n",
    "    s=re.sub('[^A-za-z]',' ',x)\n",
    "    s=re.sub('\\s+',' ',s)\n",
    "    s=s.strip()\n",
    "    return s.lower()"
   ]
  },
  {
   "cell_type": "code",
   "execution_count": 8,
   "id": "80072fac",
   "metadata": {},
   "outputs": [],
   "source": [
    "data['Messages']=data.Messages.apply(clean)"
   ]
  },
  {
   "cell_type": "code",
   "execution_count": 9,
   "id": "0526a8f2",
   "metadata": {},
   "outputs": [],
   "source": [
    "X=data.Messages.values\n",
    "y=data.label.values"
   ]
  },
  {
   "cell_type": "code",
   "execution_count": 10,
   "id": "005b05ff",
   "metadata": {},
   "outputs": [],
   "source": [
    "from sklearn.model_selection import train_test_split\n",
    "xtrain,xtest,ytrain,ytest=train_test_split(X,y,test_size=.25,random_state=12)\n"
   ]
  },
  {
   "cell_type": "code",
   "execution_count": 11,
   "id": "d5ff3ef6",
   "metadata": {},
   "outputs": [
    {
     "name": "stderr",
     "output_type": "stream",
     "text": [
      "[nltk_data] Downloading package stopwords to\n",
      "[nltk_data]     C:\\Users\\Samarth\\AppData\\Roaming\\nltk_data...\n",
      "[nltk_data]   Package stopwords is already up-to-date!\n"
     ]
    },
    {
     "data": {
      "text/plain": [
       "True"
      ]
     },
     "execution_count": 11,
     "metadata": {},
     "output_type": "execute_result"
    }
   ],
   "source": [
    "from nltk.corpus import stopwords\n",
    "import nltk\n",
    "nltk.download('stopwords')"
   ]
  },
  {
   "cell_type": "code",
   "execution_count": 12,
   "id": "70e7bf99",
   "metadata": {},
   "outputs": [],
   "source": [
    "stopwords=stopwords.words('english')"
   ]
  },
  {
   "cell_type": "code",
   "execution_count": 13,
   "id": "6baece09",
   "metadata": {},
   "outputs": [],
   "source": [
    "if 'not' in stopwords:\n",
    "    stopwords.remove('not')\n",
    "    "
   ]
  },
  {
   "cell_type": "markdown",
   "id": "db81ee3a",
   "metadata": {},
   "source": [
    "# Transform text Data into Numeric"
   ]
  },
  {
   "cell_type": "code",
   "execution_count": 14,
   "id": "6f5b9097",
   "metadata": {},
   "outputs": [],
   "source": [
    "from sklearn.feature_extraction.text import CountVectorizer"
   ]
  },
  {
   "cell_type": "code",
   "execution_count": 15,
   "id": "4479df38",
   "metadata": {},
   "outputs": [],
   "source": [
    "cv1=CountVectorizer(stop_words=stopwords)"
   ]
  },
  {
   "cell_type": "code",
   "execution_count": 16,
   "id": "02334024",
   "metadata": {},
   "outputs": [],
   "source": [
    "cv_train=cv1.fit_transform(xtrain).toarray()"
   ]
  },
  {
   "cell_type": "code",
   "execution_count": 17,
   "id": "e2a46232",
   "metadata": {},
   "outputs": [],
   "source": [
    "cv_test=cv1.transform(xtest).toarray()\n"
   ]
  },
  {
   "cell_type": "markdown",
   "id": "fa8fe31e",
   "metadata": {},
   "source": [
    "# Train Model"
   ]
  },
  {
   "cell_type": "code",
   "execution_count": 18,
   "id": "506b5cfa",
   "metadata": {},
   "outputs": [],
   "source": [
    "from sklearn.naive_bayes import MultinomialNB\n",
    "from sklearn.linear_model import LogisticRegression\n",
    "from sklearn.neighbors import KNeighborsClassifier\n",
    "import numpy as np"
   ]
  },
  {
   "cell_type": "markdown",
   "id": "12737c7f",
   "metadata": {},
   "source": [
    "# Naive Bayes"
   ]
  },
  {
   "cell_type": "code",
   "execution_count": 19,
   "id": "45763da7",
   "metadata": {},
   "outputs": [
    {
     "data": {
      "text/plain": [
       "MultinomialNB()"
      ]
     },
     "execution_count": 19,
     "metadata": {},
     "output_type": "execute_result"
    }
   ],
   "source": [
    "nb=MultinomialNB()\n",
    "nb.fit(cv_train,ytrain)"
   ]
  },
  {
   "cell_type": "code",
   "execution_count": 20,
   "id": "1e814ce5",
   "metadata": {},
   "outputs": [],
   "source": [
    "pred=nb.predict(cv_test)"
   ]
  },
  {
   "cell_type": "code",
   "execution_count": 21,
   "id": "ac35bec4",
   "metadata": {},
   "outputs": [],
   "source": [
    "from sklearn.metrics import confusion_matrix"
   ]
  },
  {
   "cell_type": "code",
   "execution_count": 22,
   "id": "091e8d9f",
   "metadata": {},
   "outputs": [],
   "source": [
    "cm=confusion_matrix(ytest,pred)"
   ]
  },
  {
   "cell_type": "code",
   "execution_count": 23,
   "id": "748e5b6b",
   "metadata": {},
   "outputs": [],
   "source": [
    "import seaborn as sb\n",
    "import matplotlib.pyplot as plt"
   ]
  },
  {
   "cell_type": "code",
   "execution_count": 24,
   "id": "840731df",
   "metadata": {},
   "outputs": [
    {
     "data": {
      "image/png": "[encoded data removed]",
      "text/plain": [
       "<Figure size 432x288 with 2 Axes>"
      ]
     },
     "metadata": {
      "needs_background": "light"
     },
     "output_type": "display_data"
    }
   ],
   "source": [
    "sb.heatmap(cm,annot=True,fmt='d')\n",
    "plt.show()"
   ]
  },
  {
   "cell_type": "markdown",
   "id": "954f2d57",
   "metadata": {},
   "source": [
    "# Logistic Regression"
   ]
  },
  {
   "cell_type": "code",
   "execution_count": 25,
   "id": "575cafec",
   "metadata": {},
   "outputs": [],
   "source": [
    "log=LogisticRegression(solver='lbfgs',class_weight={1:10})"
   ]
  },
  {
   "cell_type": "code",
   "execution_count": 26,
   "id": "8a59999d",
   "metadata": {},
   "outputs": [
    {
     "data": {
      "text/plain": [
       "LogisticRegression(class_weight={1: 10})"
      ]
     },
     "execution_count": 26,
     "metadata": {},
     "output_type": "execute_result"
    }
   ],
   "source": [
    "log.fit(cv_train,ytrain)"
   ]
  },
  {
   "cell_type": "code",
   "execution_count": 27,
   "id": "851ca51c",
   "metadata": {},
   "outputs": [
    {
     "data": {
      "text/plain": [
       "0.9777458722182341"
      ]
     },
     "execution_count": 27,
     "metadata": {},
     "output_type": "execute_result"
    }
   ],
   "source": [
    "test_score=log.score(cv_test,ytest)\n",
    "test_score"
   ]
  },
  {
   "cell_type": "code",
   "execution_count": 28,
   "id": "2c99a8a3",
   "metadata": {},
   "outputs": [],
   "source": [
    "log_pred=log.predict(cv_test)"
   ]
  },
  {
   "cell_type": "code",
   "execution_count": 29,
   "id": "7203397c",
   "metadata": {},
   "outputs": [
    {
     "data": {
      "text/plain": [
       "array([[1189,    8],\n",
       "       [  23,  173]], dtype=int64)"
      ]
     },
     "execution_count": 29,
     "metadata": {},
     "output_type": "execute_result"
    }
   ],
   "source": [
    "confusion_matrix(ytest,log_pred)"
   ]
  },
  {
   "cell_type": "markdown",
   "id": "013196e5",
   "metadata": {},
   "source": [
    "# Evaluate Model on Test Data"
   ]
  },
  {
   "cell_type": "code",
   "execution_count": 30,
   "id": "6812ea91",
   "metadata": {},
   "outputs": [],
   "source": [
    "test=['Get Free tickets.. ! Win cash','hi john I will call you Later']"
   ]
  },
  {
   "cell_type": "code",
   "execution_count": 31,
   "id": "f88042c8",
   "metadata": {},
   "outputs": [],
   "source": [
    "cleaned_data=[]"
   ]
  },
  {
   "cell_type": "code",
   "execution_count": 32,
   "id": "c5a2053e",
   "metadata": {},
   "outputs": [],
   "source": [
    "for i in test:\n",
    "    t=clean(i)\n",
    "    cleaned_data.append(t)"
   ]
  },
  {
   "cell_type": "code",
   "execution_count": 33,
   "id": "1336d784",
   "metadata": {},
   "outputs": [],
   "source": [
    "t1=cv1.transform(cleaned_data)"
   ]
  },
  {
   "cell_type": "code",
   "execution_count": 34,
   "id": "47db358a",
   "metadata": {},
   "outputs": [
    {
     "data": {
      "text/plain": [
       "(2, 6491)"
      ]
     },
     "execution_count": 34,
     "metadata": {},
     "output_type": "execute_result"
    }
   ],
   "source": [
    "t1.shape"
   ]
  },
  {
   "cell_type": "code",
   "execution_count": 35,
   "id": "39de0f0d",
   "metadata": {},
   "outputs": [
    {
     "data": {
      "text/plain": [
       "array([1, 0], dtype=int64)"
      ]
     },
     "execution_count": 35,
     "metadata": {},
     "output_type": "execute_result"
    }
   ],
   "source": [
    "nb.predict(t1)"
   ]
  },
  {
   "cell_type": "code",
   "execution_count": 36,
   "id": "c2e7b0d5",
   "metadata": {},
   "outputs": [
    {
     "data": {
      "text/plain": [
       "array([1, 0], dtype=int64)"
      ]
     },
     "execution_count": 36,
     "metadata": {},
     "output_type": "execute_result"
    }
   ],
   "source": [
    "log.predict(t1)"
   ]
  },
  {
   "cell_type": "code",
   "execution_count": null,
   "id": "05fd3c01",
   "metadata": {},
   "outputs": [],
   "source": []
  }
 ],
 "metadata": {
  "kernelspec": {
   "display_name": "Python 3",
   "language": "python",
   "name": "python3"
  },
  "language_info": {
   "codemirror_mode": {
    "name": "ipython",
    "version": 3
   },
   "file_extension": ".py",
   "mimetype": "text/x-python",
   "name": "python",
   "nbconvert_exporter": "python",
   "pygments_lexer": "ipython3",
   "version": "3.8.8"
  }
 },
 "nbformat": 4,
 "nbformat_minor": 5
}
